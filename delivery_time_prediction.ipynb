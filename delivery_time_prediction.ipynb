{
  "cells": [
    {
      "cell_type": "markdown",
      "id": "eb51cb38",
      "metadata": {
        "id": "eb51cb38"
      },
      "source": [
        "# Prédiction du temps de livraison\n"
      ]
    },
    {
      "cell_type": "markdown",
      "id": "eea9c29e",
      "metadata": {
        "id": "eea9c29e"
      },
      "source": [
        "## 1. Import des bibliothèques"
      ]
    },
    {
      "cell_type": "code",
      "execution_count": 1,
      "id": "7628e3fe",
      "metadata": {
        "id": "7628e3fe"
      },
      "outputs": [],
      "source": [
        "import pandas as pd\n",
        "import numpy as np\n",
        "import matplotlib.pyplot as plt\n",
        "from sklearn.model_selection import train_test_split, GridSearchCV\n",
        "from sklearn.pipeline import Pipeline\n",
        "from sklearn.compose import ColumnTransformer\n",
        "from sklearn.preprocessing import StandardScaler, OneHotEncoder\n",
        "from sklearn.linear_model import LinearRegression\n",
        "from sklearn.ensemble import RandomForestRegressor\n",
        "from sklearn.metrics import mean_absolute_error, mean_squared_error, r2_score\n",
        "import joblib"
      ]
    },
    {
      "cell_type": "markdown",
      "id": "93cd5d7d",
      "metadata": {
        "id": "93cd5d7d"
      },
      "source": [
        "## 2. Chargement et exploration des données"
      ]
    },
    {
      "cell_type": "code",
      "execution_count": 2,
      "id": "84315f0a",
      "metadata": {
        "colab": {
          "base_uri": "https://localhost:8080/"
        },
        "id": "84315f0a",
        "outputId": "e78e483c-a3fb-4254-bef7-d8c22adb1dfc"
      },
      "outputs": [
        {
          "output_type": "stream",
          "name": "stdout",
          "text": [
            "<class 'pandas.core.frame.DataFrame'>\n",
            "RangeIndex: 24378 entries, 0 to 24377\n",
            "Data columns (total 11 columns):\n",
            " #   Column                       Non-Null Count  Dtype  \n",
            "---  ------                       --------------  -----  \n",
            " 0   ID                           24378 non-null  object \n",
            " 1   Delivery_person_ID           24378 non-null  object \n",
            " 2   Delivery_person_Age          24377 non-null  float64\n",
            " 3   Delivery_person_Ratings      24377 non-null  float64\n",
            " 4   Restaurant_latitude          24377 non-null  float64\n",
            " 5   Restaurant_longitude         24377 non-null  float64\n",
            " 6   Delivery_location_latitude   24377 non-null  float64\n",
            " 7   Delivery_location_longitude  24377 non-null  float64\n",
            " 8   Type_of_order                24377 non-null  object \n",
            " 9   Type_of_vehicle              24377 non-null  object \n",
            " 10  Time_taken(min)              24377 non-null  float64\n",
            "dtypes: float64(7), object(4)\n",
            "memory usage: 2.0+ MB\n"
          ]
        },
        {
          "output_type": "execute_result",
          "data": {
            "text/plain": [
              "(     ID Delivery_person_ID  Delivery_person_Age  Delivery_person_Ratings  \\\n",
              " 0  4607     INDORES13DEL02                 37.0                      4.9   \n",
              " 1  B379     BANGRES18DEL02                 34.0                      4.5   \n",
              " 2  5D6D     BANGRES19DEL01                 23.0                      4.4   \n",
              " 3  7A6A    COIMBRES13DEL02                 38.0                      4.7   \n",
              " 4  70A2     CHENRES12DEL01                 32.0                      4.6   \n",
              " \n",
              "    Restaurant_latitude  Restaurant_longitude  Delivery_location_latitude  \\\n",
              " 0            22.745049             75.892471                   22.765049   \n",
              " 1            12.913041             77.683237                   13.043041   \n",
              " 2            12.914264             77.678400                   12.924264   \n",
              " 3            11.003669             76.976494                   11.053669   \n",
              " 4            12.972793             80.249982                   13.012793   \n",
              " \n",
              "    Delivery_location_longitude Type_of_order Type_of_vehicle  Time_taken(min)  \n",
              " 0                    75.912471        Snack      motorcycle              24.0  \n",
              " 1                    77.813237        Snack         scooter              33.0  \n",
              " 2                    77.688400       Drinks      motorcycle              26.0  \n",
              " 3                    77.026494       Buffet      motorcycle              21.0  \n",
              " 4                    80.289982        Snack         scooter              30.0  ,\n",
              " None,\n",
              "        Delivery_person_Age  Delivery_person_Ratings  Restaurant_latitude  \\\n",
              " count         24377.000000              24377.00000         24377.000000   \n",
              " mean             29.567379                  4.63219            16.987366   \n",
              " std               5.692363                  0.32597             8.164641   \n",
              " min              15.000000                  1.00000           -30.905562   \n",
              " 25%              25.000000                  4.50000            12.914264   \n",
              " 50%              29.000000                  4.70000            18.546258   \n",
              " 75%              34.000000                  4.80000            22.728163   \n",
              " max              50.000000                  6.00000            30.914057   \n",
              " \n",
              "        Restaurant_longitude  Delivery_location_latitude  \\\n",
              " count          24377.000000                24377.000000   \n",
              " mean              70.326133                   17.430568   \n",
              " std               22.730582                    7.323548   \n",
              " min              -88.352885                    0.010000   \n",
              " 25%               73.170283                   12.983298   \n",
              " 50%               75.902847                   18.626947   \n",
              " 75%               78.046106                   22.781857   \n",
              " max               88.433452                   31.054057   \n",
              " \n",
              "        Delivery_location_longitude  Time_taken(min)  \n",
              " count                 24377.000000     24377.000000  \n",
              " mean                     70.905895        26.314518  \n",
              " std                      21.066659         9.390521  \n",
              " min                       0.010000        10.000000  \n",
              " 25%                      73.297753        19.000000  \n",
              " 50%                      76.022574        26.000000  \n",
              " 75%                      78.112990        32.000000  \n",
              " max                      88.563452        54.000000  )"
            ]
          },
          "metadata": {},
          "execution_count": 2
        }
      ],
      "source": [
        "# Charger le dataset\n",
        "df = pd.read_csv('/content/deliverytime.csv')\n",
        "\n",
        "# Aperçu\n",
        "df.head(), df.info(), df.describe()"
      ]
    },
    {
      "cell_type": "code",
      "source": [
        "df.head()"
      ],
      "metadata": {
        "colab": {
          "base_uri": "https://localhost:8080/",
          "height": 226
        },
        "id": "lvmeM6TCnAMb",
        "outputId": "9da01364-c65c-44fa-e3d0-bfb4040f7a8e"
      },
      "id": "lvmeM6TCnAMb",
      "execution_count": 33,
      "outputs": [
        {
          "output_type": "execute_result",
          "data": {
            "text/plain": [
              "  Delivery_person_ID  Delivery_person_Age  Delivery_person_Ratings  \\\n",
              "0     INDORES13DEL02                 37.0                      4.9   \n",
              "1     BANGRES18DEL02                 34.0                      4.5   \n",
              "2     BANGRES19DEL01                 23.0                      4.4   \n",
              "3    COIMBRES13DEL02                 38.0                      4.7   \n",
              "4     CHENRES12DEL01                 32.0                      4.6   \n",
              "\n",
              "   Restaurant_latitude  Restaurant_longitude  Delivery_location_latitude  \\\n",
              "0            22.745049             75.892471                   22.765049   \n",
              "1            12.913041             77.683237                   13.043041   \n",
              "2            12.914264             77.678400                   12.924264   \n",
              "3            11.003669             76.976494                   11.053669   \n",
              "4            12.972793             80.249982                   13.012793   \n",
              "\n",
              "   Delivery_location_longitude Type_of_order Type_of_vehicle  Time_taken(min)  \\\n",
              "0                    75.912471        Snack      motorcycle              24.0   \n",
              "1                    77.813237        Snack         scooter              33.0   \n",
              "2                    77.688400       Drinks      motorcycle              26.0   \n",
              "3                    77.026494       Buffet      motorcycle              21.0   \n",
              "4                    80.289982        Snack         scooter              30.0   \n",
              "\n",
              "   distance_km  \n",
              "0     3.025149  \n",
              "1    20.183530  \n",
              "2     1.552758  \n",
              "3     7.790401  \n",
              "4     6.210138  "
            ],
            "text/html": [
              "\n",
              "  <div id=\"df-dbaffc46-758a-4bec-838e-8e4a539fe492\" class=\"colab-df-container\">\n",
              "    <div>\n",
              "<style scoped>\n",
              "    .dataframe tbody tr th:only-of-type {\n",
              "        vertical-align: middle;\n",
              "    }\n",
              "\n",
              "    .dataframe tbody tr th {\n",
              "        vertical-align: top;\n",
              "    }\n",
              "\n",
              "    .dataframe thead th {\n",
              "        text-align: right;\n",
              "    }\n",
              "</style>\n",
              "<table border=\"1\" class=\"dataframe\">\n",
              "  <thead>\n",
              "    <tr style=\"text-align: right;\">\n",
              "      <th></th>\n",
              "      <th>Delivery_person_ID</th>\n",
              "      <th>Delivery_person_Age</th>\n",
              "      <th>Delivery_person_Ratings</th>\n",
              "      <th>Restaurant_latitude</th>\n",
              "      <th>Restaurant_longitude</th>\n",
              "      <th>Delivery_location_latitude</th>\n",
              "      <th>Delivery_location_longitude</th>\n",
              "      <th>Type_of_order</th>\n",
              "      <th>Type_of_vehicle</th>\n",
              "      <th>Time_taken(min)</th>\n",
              "      <th>distance_km</th>\n",
              "    </tr>\n",
              "  </thead>\n",
              "  <tbody>\n",
              "    <tr>\n",
              "      <th>0</th>\n",
              "      <td>INDORES13DEL02</td>\n",
              "      <td>37.0</td>\n",
              "      <td>4.9</td>\n",
              "      <td>22.745049</td>\n",
              "      <td>75.892471</td>\n",
              "      <td>22.765049</td>\n",
              "      <td>75.912471</td>\n",
              "      <td>Snack</td>\n",
              "      <td>motorcycle</td>\n",
              "      <td>24.0</td>\n",
              "      <td>3.025149</td>\n",
              "    </tr>\n",
              "    <tr>\n",
              "      <th>1</th>\n",
              "      <td>BANGRES18DEL02</td>\n",
              "      <td>34.0</td>\n",
              "      <td>4.5</td>\n",
              "      <td>12.913041</td>\n",
              "      <td>77.683237</td>\n",
              "      <td>13.043041</td>\n",
              "      <td>77.813237</td>\n",
              "      <td>Snack</td>\n",
              "      <td>scooter</td>\n",
              "      <td>33.0</td>\n",
              "      <td>20.183530</td>\n",
              "    </tr>\n",
              "    <tr>\n",
              "      <th>2</th>\n",
              "      <td>BANGRES19DEL01</td>\n",
              "      <td>23.0</td>\n",
              "      <td>4.4</td>\n",
              "      <td>12.914264</td>\n",
              "      <td>77.678400</td>\n",
              "      <td>12.924264</td>\n",
              "      <td>77.688400</td>\n",
              "      <td>Drinks</td>\n",
              "      <td>motorcycle</td>\n",
              "      <td>26.0</td>\n",
              "      <td>1.552758</td>\n",
              "    </tr>\n",
              "    <tr>\n",
              "      <th>3</th>\n",
              "      <td>COIMBRES13DEL02</td>\n",
              "      <td>38.0</td>\n",
              "      <td>4.7</td>\n",
              "      <td>11.003669</td>\n",
              "      <td>76.976494</td>\n",
              "      <td>11.053669</td>\n",
              "      <td>77.026494</td>\n",
              "      <td>Buffet</td>\n",
              "      <td>motorcycle</td>\n",
              "      <td>21.0</td>\n",
              "      <td>7.790401</td>\n",
              "    </tr>\n",
              "    <tr>\n",
              "      <th>4</th>\n",
              "      <td>CHENRES12DEL01</td>\n",
              "      <td>32.0</td>\n",
              "      <td>4.6</td>\n",
              "      <td>12.972793</td>\n",
              "      <td>80.249982</td>\n",
              "      <td>13.012793</td>\n",
              "      <td>80.289982</td>\n",
              "      <td>Snack</td>\n",
              "      <td>scooter</td>\n",
              "      <td>30.0</td>\n",
              "      <td>6.210138</td>\n",
              "    </tr>\n",
              "  </tbody>\n",
              "</table>\n",
              "</div>\n",
              "    <div class=\"colab-df-buttons\">\n",
              "\n",
              "  <div class=\"colab-df-container\">\n",
              "    <button class=\"colab-df-convert\" onclick=\"convertToInteractive('df-dbaffc46-758a-4bec-838e-8e4a539fe492')\"\n",
              "            title=\"Convert this dataframe to an interactive table.\"\n",
              "            style=\"display:none;\">\n",
              "\n",
              "  <svg xmlns=\"http://www.w3.org/2000/svg\" height=\"24px\" viewBox=\"0 -960 960 960\">\n",
              "    <path d=\"M120-120v-720h720v720H120Zm60-500h600v-160H180v160Zm220 220h160v-160H400v160Zm0 220h160v-160H400v160ZM180-400h160v-160H180v160Zm440 0h160v-160H620v160ZM180-180h160v-160H180v160Zm440 0h160v-160H620v160Z\"/>\n",
              "  </svg>\n",
              "    </button>\n",
              "\n",
              "  <style>\n",
              "    .colab-df-container {\n",
              "      display:flex;\n",
              "      gap: 12px;\n",
              "    }\n",
              "\n",
              "    .colab-df-convert {\n",
              "      background-color: #E8F0FE;\n",
              "      border: none;\n",
              "      border-radius: 50%;\n",
              "      cursor: pointer;\n",
              "      display: none;\n",
              "      fill: #1967D2;\n",
              "      height: 32px;\n",
              "      padding: 0 0 0 0;\n",
              "      width: 32px;\n",
              "    }\n",
              "\n",
              "    .colab-df-convert:hover {\n",
              "      background-color: #E2EBFA;\n",
              "      box-shadow: 0px 1px 2px rgba(60, 64, 67, 0.3), 0px 1px 3px 1px rgba(60, 64, 67, 0.15);\n",
              "      fill: #174EA6;\n",
              "    }\n",
              "\n",
              "    .colab-df-buttons div {\n",
              "      margin-bottom: 4px;\n",
              "    }\n",
              "\n",
              "    [theme=dark] .colab-df-convert {\n",
              "      background-color: #3B4455;\n",
              "      fill: #D2E3FC;\n",
              "    }\n",
              "\n",
              "    [theme=dark] .colab-df-convert:hover {\n",
              "      background-color: #434B5C;\n",
              "      box-shadow: 0px 1px 3px 1px rgba(0, 0, 0, 0.15);\n",
              "      filter: drop-shadow(0px 1px 2px rgba(0, 0, 0, 0.3));\n",
              "      fill: #FFFFFF;\n",
              "    }\n",
              "  </style>\n",
              "\n",
              "    <script>\n",
              "      const buttonEl =\n",
              "        document.querySelector('#df-dbaffc46-758a-4bec-838e-8e4a539fe492 button.colab-df-convert');\n",
              "      buttonEl.style.display =\n",
              "        google.colab.kernel.accessAllowed ? 'block' : 'none';\n",
              "\n",
              "      async function convertToInteractive(key) {\n",
              "        const element = document.querySelector('#df-dbaffc46-758a-4bec-838e-8e4a539fe492');\n",
              "        const dataTable =\n",
              "          await google.colab.kernel.invokeFunction('convertToInteractive',\n",
              "                                                    [key], {});\n",
              "        if (!dataTable) return;\n",
              "\n",
              "        const docLinkHtml = 'Like what you see? Visit the ' +\n",
              "          '<a target=\"_blank\" href=https://colab.research.google.com/notebooks/data_table.ipynb>data table notebook</a>'\n",
              "          + ' to learn more about interactive tables.';\n",
              "        element.innerHTML = '';\n",
              "        dataTable['output_type'] = 'display_data';\n",
              "        await google.colab.output.renderOutput(dataTable, element);\n",
              "        const docLink = document.createElement('div');\n",
              "        docLink.innerHTML = docLinkHtml;\n",
              "        element.appendChild(docLink);\n",
              "      }\n",
              "    </script>\n",
              "  </div>\n",
              "\n",
              "\n",
              "    <div id=\"df-bce1ebf5-adc2-46a6-99e1-bbbaa15b21a1\">\n",
              "      <button class=\"colab-df-quickchart\" onclick=\"quickchart('df-bce1ebf5-adc2-46a6-99e1-bbbaa15b21a1')\"\n",
              "                title=\"Suggest charts\"\n",
              "                style=\"display:none;\">\n",
              "\n",
              "<svg xmlns=\"http://www.w3.org/2000/svg\" height=\"24px\"viewBox=\"0 0 24 24\"\n",
              "     width=\"24px\">\n",
              "    <g>\n",
              "        <path d=\"M19 3H5c-1.1 0-2 .9-2 2v14c0 1.1.9 2 2 2h14c1.1 0 2-.9 2-2V5c0-1.1-.9-2-2-2zM9 17H7v-7h2v7zm4 0h-2V7h2v10zm4 0h-2v-4h2v4z\"/>\n",
              "    </g>\n",
              "</svg>\n",
              "      </button>\n",
              "\n",
              "<style>\n",
              "  .colab-df-quickchart {\n",
              "      --bg-color: #E8F0FE;\n",
              "      --fill-color: #1967D2;\n",
              "      --hover-bg-color: #E2EBFA;\n",
              "      --hover-fill-color: #174EA6;\n",
              "      --disabled-fill-color: #AAA;\n",
              "      --disabled-bg-color: #DDD;\n",
              "  }\n",
              "\n",
              "  [theme=dark] .colab-df-quickchart {\n",
              "      --bg-color: #3B4455;\n",
              "      --fill-color: #D2E3FC;\n",
              "      --hover-bg-color: #434B5C;\n",
              "      --hover-fill-color: #FFFFFF;\n",
              "      --disabled-bg-color: #3B4455;\n",
              "      --disabled-fill-color: #666;\n",
              "  }\n",
              "\n",
              "  .colab-df-quickchart {\n",
              "    background-color: var(--bg-color);\n",
              "    border: none;\n",
              "    border-radius: 50%;\n",
              "    cursor: pointer;\n",
              "    display: none;\n",
              "    fill: var(--fill-color);\n",
              "    height: 32px;\n",
              "    padding: 0;\n",
              "    width: 32px;\n",
              "  }\n",
              "\n",
              "  .colab-df-quickchart:hover {\n",
              "    background-color: var(--hover-bg-color);\n",
              "    box-shadow: 0 1px 2px rgba(60, 64, 67, 0.3), 0 1px 3px 1px rgba(60, 64, 67, 0.15);\n",
              "    fill: var(--button-hover-fill-color);\n",
              "  }\n",
              "\n",
              "  .colab-df-quickchart-complete:disabled,\n",
              "  .colab-df-quickchart-complete:disabled:hover {\n",
              "    background-color: var(--disabled-bg-color);\n",
              "    fill: var(--disabled-fill-color);\n",
              "    box-shadow: none;\n",
              "  }\n",
              "\n",
              "  .colab-df-spinner {\n",
              "    border: 2px solid var(--fill-color);\n",
              "    border-color: transparent;\n",
              "    border-bottom-color: var(--fill-color);\n",
              "    animation:\n",
              "      spin 1s steps(1) infinite;\n",
              "  }\n",
              "\n",
              "  @keyframes spin {\n",
              "    0% {\n",
              "      border-color: transparent;\n",
              "      border-bottom-color: var(--fill-color);\n",
              "      border-left-color: var(--fill-color);\n",
              "    }\n",
              "    20% {\n",
              "      border-color: transparent;\n",
              "      border-left-color: var(--fill-color);\n",
              "      border-top-color: var(--fill-color);\n",
              "    }\n",
              "    30% {\n",
              "      border-color: transparent;\n",
              "      border-left-color: var(--fill-color);\n",
              "      border-top-color: var(--fill-color);\n",
              "      border-right-color: var(--fill-color);\n",
              "    }\n",
              "    40% {\n",
              "      border-color: transparent;\n",
              "      border-right-color: var(--fill-color);\n",
              "      border-top-color: var(--fill-color);\n",
              "    }\n",
              "    60% {\n",
              "      border-color: transparent;\n",
              "      border-right-color: var(--fill-color);\n",
              "    }\n",
              "    80% {\n",
              "      border-color: transparent;\n",
              "      border-right-color: var(--fill-color);\n",
              "      border-bottom-color: var(--fill-color);\n",
              "    }\n",
              "    90% {\n",
              "      border-color: transparent;\n",
              "      border-bottom-color: var(--fill-color);\n",
              "    }\n",
              "  }\n",
              "</style>\n",
              "\n",
              "      <script>\n",
              "        async function quickchart(key) {\n",
              "          const quickchartButtonEl =\n",
              "            document.querySelector('#' + key + ' button');\n",
              "          quickchartButtonEl.disabled = true;  // To prevent multiple clicks.\n",
              "          quickchartButtonEl.classList.add('colab-df-spinner');\n",
              "          try {\n",
              "            const charts = await google.colab.kernel.invokeFunction(\n",
              "                'suggestCharts', [key], {});\n",
              "          } catch (error) {\n",
              "            console.error('Error during call to suggestCharts:', error);\n",
              "          }\n",
              "          quickchartButtonEl.classList.remove('colab-df-spinner');\n",
              "          quickchartButtonEl.classList.add('colab-df-quickchart-complete');\n",
              "        }\n",
              "        (() => {\n",
              "          let quickchartButtonEl =\n",
              "            document.querySelector('#df-bce1ebf5-adc2-46a6-99e1-bbbaa15b21a1 button');\n",
              "          quickchartButtonEl.style.display =\n",
              "            google.colab.kernel.accessAllowed ? 'block' : 'none';\n",
              "        })();\n",
              "      </script>\n",
              "    </div>\n",
              "\n",
              "    </div>\n",
              "  </div>\n"
            ],
            "application/vnd.google.colaboratory.intrinsic+json": {
              "type": "dataframe",
              "variable_name": "df",
              "summary": "{\n  \"name\": \"df\",\n  \"rows\": 24377,\n  \"fields\": [\n    {\n      \"column\": \"Delivery_person_ID\",\n      \"properties\": {\n        \"dtype\": \"category\",\n        \"num_unique_values\": 1320,\n        \"samples\": [\n          \"BANGRES02DEL03\",\n          \"RANCHIRES02DEL02\",\n          \"SURRES16DEL03\"\n        ],\n        \"semantic_type\": \"\",\n        \"description\": \"\"\n      }\n    },\n    {\n      \"column\": \"Delivery_person_Age\",\n      \"properties\": {\n        \"dtype\": \"number\",\n        \"std\": 5.692363492178447,\n        \"min\": 15.0,\n        \"max\": 50.0,\n        \"num_unique_values\": 22,\n        \"samples\": [\n          37.0,\n          31.0,\n          36.0\n        ],\n        \"semantic_type\": \"\",\n        \"description\": \"\"\n      }\n    },\n    {\n      \"column\": \"Delivery_person_Ratings\",\n      \"properties\": {\n        \"dtype\": \"number\",\n        \"std\": 0.32289565470553416,\n        \"min\": 1.0,\n        \"max\": 5.0,\n        \"num_unique_values\": 27,\n        \"samples\": [\n          4.0,\n          3.9,\n          4.1\n        ],\n        \"semantic_type\": \"\",\n        \"description\": \"\"\n      }\n    },\n    {\n      \"column\": \"Restaurant_latitude\",\n      \"properties\": {\n        \"dtype\": \"number\",\n        \"std\": 8.164640847548473,\n        \"min\": -30.905562,\n        \"max\": 30.914057,\n        \"num_unique_values\": 564,\n        \"samples\": [\n          -22.761226,\n          -22.538731,\n          12.326356\n        ],\n        \"semantic_type\": \"\",\n        \"description\": \"\"\n      }\n    },\n    {\n      \"column\": \"Restaurant_longitude\",\n      \"properties\": {\n        \"dtype\": \"number\",\n        \"std\": 22.730581781636317,\n        \"min\": -88.352885,\n        \"max\": 88.433452,\n        \"num_unique_values\": 462,\n        \"samples\": [\n          78.437225,\n          73.78346,\n          72.908493\n        ],\n        \"semantic_type\": \"\",\n        \"description\": \"\"\n      }\n    },\n    {\n      \"column\": \"Delivery_location_latitude\",\n      \"properties\": {\n        \"dtype\": \"number\",\n        \"std\": 7.323548376497406,\n        \"min\": 0.01,\n        \"max\": 31.054057,\n        \"num_unique_values\": 4188,\n        \"samples\": [\n          23.411292,\n          23.284015,\n          13.029096\n        ],\n        \"semantic_type\": \"\",\n        \"description\": \"\"\n      }\n    },\n    {\n      \"column\": \"Delivery_location_longitude\",\n      \"properties\": {\n        \"dtype\": \"number\",\n        \"std\": 21.066658679337188,\n        \"min\": 0.01,\n        \"max\": 88.563452,\n        \"num_unique_values\": 4188,\n        \"samples\": [\n          85.367872,\n          77.428236,\n          77.690625\n        ],\n        \"semantic_type\": \"\",\n        \"description\": \"\"\n      }\n    },\n    {\n      \"column\": \"Type_of_order\",\n      \"properties\": {\n        \"dtype\": \"category\",\n        \"num_unique_values\": 4,\n        \"samples\": [\n          \"Drinks \",\n          \"Meal \",\n          \"Snack \"\n        ],\n        \"semantic_type\": \"\",\n        \"description\": \"\"\n      }\n    },\n    {\n      \"column\": \"Type_of_vehicle\",\n      \"properties\": {\n        \"dtype\": \"category\",\n        \"num_unique_values\": 4,\n        \"samples\": [\n          \"scooter \",\n          \"bicycle \",\n          \"motorcycle \"\n        ],\n        \"semantic_type\": \"\",\n        \"description\": \"\"\n      }\n    },\n    {\n      \"column\": \"Time_taken(min)\",\n      \"properties\": {\n        \"dtype\": \"number\",\n        \"std\": 9.390520938604169,\n        \"min\": 10.0,\n        \"max\": 54.0,\n        \"num_unique_values\": 45,\n        \"samples\": [\n          43.0,\n          28.0,\n          52.0\n        ],\n        \"semantic_type\": \"\",\n        \"description\": \"\"\n      }\n    },\n    {\n      \"column\": \"distance_km\",\n      \"properties\": {\n        \"dtype\": \"number\",\n        \"std\": 1071.2025005421795,\n        \"min\": 1.4650674052308583,\n        \"max\": 19688.00128804851,\n        \"num_unique_values\": 4389,\n        \"samples\": [\n          11.937237212390695,\n          10.683811825489315,\n          20.179033324549206\n        ],\n        \"semantic_type\": \"\",\n        \"description\": \"\"\n      }\n    }\n  ]\n}"
            }
          },
          "metadata": {},
          "execution_count": 33
        }
      ]
    },
    {
      "cell_type": "code",
      "source": [],
      "metadata": {
        "id": "3NP8asL1nBSZ"
      },
      "id": "3NP8asL1nBSZ",
      "execution_count": null,
      "outputs": []
    },
    {
      "cell_type": "markdown",
      "id": "23d458eb",
      "metadata": {
        "id": "23d458eb"
      },
      "source": [
        "## 3. Nettoyage et prétraitement"
      ]
    },
    {
      "cell_type": "code",
      "execution_count": 3,
      "id": "707b0569",
      "metadata": {
        "colab": {
          "base_uri": "https://localhost:8080/",
          "height": 335
        },
        "id": "707b0569",
        "outputId": "13368b21-2bd7-40e9-c63b-669528fc7dd2"
      },
      "outputs": [
        {
          "output_type": "execute_result",
          "data": {
            "text/plain": [
              "count    24377.000000\n",
              "mean        95.463213\n",
              "std       1071.202501\n",
              "min          1.465067\n",
              "25%          4.663432\n",
              "50%          9.264649\n",
              "75%         13.765757\n",
              "max      19688.001288\n",
              "Name: distance_km, dtype: float64"
            ],
            "text/html": [
              "<div>\n",
              "<style scoped>\n",
              "    .dataframe tbody tr th:only-of-type {\n",
              "        vertical-align: middle;\n",
              "    }\n",
              "\n",
              "    .dataframe tbody tr th {\n",
              "        vertical-align: top;\n",
              "    }\n",
              "\n",
              "    .dataframe thead th {\n",
              "        text-align: right;\n",
              "    }\n",
              "</style>\n",
              "<table border=\"1\" class=\"dataframe\">\n",
              "  <thead>\n",
              "    <tr style=\"text-align: right;\">\n",
              "      <th></th>\n",
              "      <th>distance_km</th>\n",
              "    </tr>\n",
              "  </thead>\n",
              "  <tbody>\n",
              "    <tr>\n",
              "      <th>count</th>\n",
              "      <td>24377.000000</td>\n",
              "    </tr>\n",
              "    <tr>\n",
              "      <th>mean</th>\n",
              "      <td>95.463213</td>\n",
              "    </tr>\n",
              "    <tr>\n",
              "      <th>std</th>\n",
              "      <td>1071.202501</td>\n",
              "    </tr>\n",
              "    <tr>\n",
              "      <th>min</th>\n",
              "      <td>1.465067</td>\n",
              "    </tr>\n",
              "    <tr>\n",
              "      <th>25%</th>\n",
              "      <td>4.663432</td>\n",
              "    </tr>\n",
              "    <tr>\n",
              "      <th>50%</th>\n",
              "      <td>9.264649</td>\n",
              "    </tr>\n",
              "    <tr>\n",
              "      <th>75%</th>\n",
              "      <td>13.765757</td>\n",
              "    </tr>\n",
              "    <tr>\n",
              "      <th>max</th>\n",
              "      <td>19688.001288</td>\n",
              "    </tr>\n",
              "  </tbody>\n",
              "</table>\n",
              "</div><br><label><b>dtype:</b> float64</label>"
            ]
          },
          "metadata": {},
          "execution_count": 3
        }
      ],
      "source": [
        "# Suppression de colonnes inutiles\n",
        "df = df.drop(columns=['ID'])\n",
        "\n",
        "# Correction des notes supérieures à 5\n",
        "df['Delivery_person_Ratings'] = df['Delivery_person_Ratings'].clip(upper=5)\n",
        "\n",
        "# Fonction Haversine pour la distance\n",
        "def haversine(lat1, lon1, lat2, lon2):\n",
        "    R = 6371\n",
        "    phi1, phi2 = np.radians(lat1), np.radians(lat2)\n",
        "    dphi = np.radians(lat2 - lat1)\n",
        "    dlambda = np.radians(lon2 - lon1)\n",
        "    a = np.sin(dphi/2)**2 + np.cos(phi1)*np.cos(phi2)*np.sin(dlambda/2)**2\n",
        "    return 2 * R * np.arcsin(np.sqrt(a))\n",
        "\n",
        "df['distance_km'] = haversine(\n",
        "    df['Restaurant_latitude'], df['Restaurant_longitude'],\n",
        "    df['Delivery_location_latitude'], df['Delivery_location_longitude']\n",
        ")\n",
        "df['distance_km'].describe()"
      ]
    },
    {
      "cell_type": "markdown",
      "id": "3d171db6",
      "metadata": {
        "id": "3d171db6"
      },
      "source": [
        "## 4. Ingénierie des caractéristiques"
      ]
    },
    {
      "cell_type": "code",
      "execution_count": 4,
      "id": "b0325ab5",
      "metadata": {
        "id": "b0325ab5"
      },
      "outputs": [],
      "source": [
        "numeric_features = ['Delivery_person_Age', 'Delivery_person_Ratings', 'distance_km']\n",
        "categorical_features = ['Type_of_order', 'Type_of_vehicle']\n",
        "\n",
        "numeric_transformer = Pipeline(steps=[('scaler', StandardScaler())])\n",
        "categorical_transformer = Pipeline(steps=[('onehot', OneHotEncoder(handle_unknown='ignore'))])\n",
        "\n",
        "preprocessor = ColumnTransformer(transformers=[\n",
        "    ('num', numeric_transformer, numeric_features),\n",
        "    ('cat', categorical_transformer, categorical_features)\n",
        "])"
      ]
    },
    {
      "cell_type": "markdown",
      "id": "41fd00d2",
      "metadata": {
        "id": "41fd00d2"
      },
      "source": [
        "## 5. Analyse exploratoire des données"
      ]
    },
    {
      "cell_type": "code",
      "execution_count": 5,
      "id": "3b933e27",
      "metadata": {
        "colab": {
          "base_uri": "https://localhost:8080/",
          "height": 970
        },
        "id": "3b933e27",
        "outputId": "efc5340d-cf88-4862-f023-07873d54a18b"
      },
      "outputs": [
        {
          "output_type": "display_data",
          "data": {
            "text/plain": [
              "<Figure size 640x480 with 1 Axes>"
            ],
            "image/png": "[encoded data removed]"
          },
          "metadata": {}
        },
        {
          "output_type": "display_data",
          "data": {
            "text/plain": [
              "<Figure size 800x600 with 1 Axes>"
            ],
            "image/png": "[encoded data removed]"
          },
          "metadata": {}
        }
      ],
      "source": [
        "plt.scatter(df['distance_km'], df['Time_taken(min)'], alpha=0.5)\n",
        "plt.xlabel('Distance (km)')\n",
        "plt.ylabel('Time (min)')\n",
        "plt.title('Distance vs Temps')\n",
        "plt.show()\n",
        "\n",
        "df.boxplot(column='Time_taken(min)', by='Type_of_vehicle', figsize=(8,6))\n",
        "plt.title('Temps par véhicule')\n",
        "plt.suptitle('')\n",
        "plt.show()"
      ]
    },
    {
      "cell_type": "markdown",
      "id": "80de1c31",
      "metadata": {
        "id": "80de1c31"
      },
      "source": [
        "## 6. Modélisation et évaluation initiale"
      ]
    },
    {
      "cell_type": "code",
      "source": [
        "# Combien de NaN par colonne ?\n",
        "print(df[numeric_features + categorical_features].isnull().sum())\n"
      ],
      "metadata": {
        "colab": {
          "base_uri": "https://localhost:8080/"
        },
        "id": "rsITMrWMFabX",
        "outputId": "7848afba-f04a-470a-ed9b-0e29bf9f34d8"
      },
      "id": "rsITMrWMFabX",
      "execution_count": 7,
      "outputs": [
        {
          "output_type": "stream",
          "name": "stdout",
          "text": [
            "Delivery_person_Age        1\n",
            "Delivery_person_Ratings    1\n",
            "distance_km                1\n",
            "Type_of_order              1\n",
            "Type_of_vehicle            1\n",
            "dtype: int64\n"
          ]
        }
      ]
    },
    {
      "cell_type": "code",
      "source": [
        "# Suppression de la ligne où il manque au moins une valeur\n",
        "df = df.dropna(subset=numeric_features + categorical_features + ['Time_taken(min)'])\n",
        "\n",
        "# Puis recréer X, y, et refaire train_test_split…\n"
      ],
      "metadata": {
        "id": "K6Y9VaRwFkGY"
      },
      "id": "K6Y9VaRwFkGY",
      "execution_count": 9,
      "outputs": []
    },
    {
      "cell_type": "code",
      "execution_count": 10,
      "id": "33647d4c",
      "metadata": {
        "colab": {
          "base_uri": "https://localhost:8080/"
        },
        "id": "33647d4c",
        "outputId": "f19c74da-47d6-4632-88fd-f58fa4255444"
      },
      "outputs": [
        {
          "output_type": "stream",
          "name": "stdout",
          "text": [
            "MAE: 6.691488668658917\n",
            "RMSE: 8.431811153334149\n",
            "R2: 0.21452344592929007\n"
          ]
        }
      ],
      "source": [
        "X = df[numeric_features + categorical_features]\n",
        "y = df['Time_taken(min)']\n",
        "X_train, X_test, y_train, y_test = train_test_split(X, y, test_size=0.2, random_state=42)\n",
        "\n",
        "baseline = Pipeline([('preprocessor', preprocessor), ('regressor', LinearRegression())])\n",
        "baseline.fit(X_train, y_train)\n",
        "y_pred = baseline.predict(X_test)\n",
        "\n",
        "print('MAE:', mean_absolute_error(y_test, y_pred))\n",
        "print('RMSE:', np.sqrt(mean_squared_error(y_test, y_pred)))\n",
        "print('R2:', r2_score(y_test, y_pred))"
      ]
    },
    {
      "cell_type": "code",
      "source": [
        "from sklearn.ensemble import RandomForestRegressor\n",
        "\n",
        "# Pipeline RF sans tuning\n",
        "rf_baseline = Pipeline([\n",
        "    ('preprocessor', preprocessor),\n",
        "    ('regressor', RandomForestRegressor(random_state=42))\n",
        "])\n",
        "\n",
        "rf_baseline.fit(X_train, y_train)\n",
        "y_rf = rf_baseline.predict(X_test)\n",
        "\n",
        "print(\"RandomForest (défaut) • MAE: \", mean_absolute_error(y_test, y_rf))\n",
        "print(\"RandomForest (défaut) • RMSE:\", np.sqrt(mean_squared_error(y_test, y_rf)))\n",
        "print(\"RandomForest (défaut) • R2:  \", r2_score(y_test, y_rf))\n"
      ],
      "metadata": {
        "colab": {
          "base_uri": "https://localhost:8080/"
        },
        "id": "97WBDhbuGIeR",
        "outputId": "507673eb-adfc-4b5d-bad0-9fc2cd141923"
      },
      "id": "97WBDhbuGIeR",
      "execution_count": 12,
      "outputs": [
        {
          "output_type": "stream",
          "name": "stdout",
          "text": [
            "RandomForest (défaut) • MAE:  6.076940588499551\n",
            "RandomForest (défaut) • RMSE: 7.780080395692103\n",
            "RandomForest (défaut) • R2:   0.33125637721724455\n"
          ]
        }
      ]
    },
    {
      "cell_type": "code",
      "source": [
        "from sklearn.model_selection import GridSearchCV\n",
        "\n",
        "# Grille à explorer\n",
        "param_grid = {\n",
        "    'regressor__n_estimators': [100, 200, 300],\n",
        "    'regressor__max_depth':    [None, 10, 20],\n",
        "    'regressor__min_samples_split': [2, 5],\n",
        "}\n",
        "\n",
        "rf_pipeline = Pipeline([\n",
        "    ('preprocessor', preprocessor),\n",
        "    ('regressor', RandomForestRegressor(random_state=42))\n",
        "])\n",
        "\n",
        "grid_rf = GridSearchCV(\n",
        "    rf_pipeline,\n",
        "    param_grid,\n",
        "    cv=5,\n",
        "    scoring='neg_mean_absolute_error',\n",
        "    n_jobs=-1\n",
        ")\n",
        "grid_rf.fit(X_train, y_train)\n",
        "\n",
        "best_rf = grid_rf.best_estimator_\n",
        "y_best_rf = best_rf.predict(X_test)\n",
        "\n",
        "print(\"Meilleurs params RF :\", grid_rf.best_params_)\n",
        "print(\"RF optimisé • MAE: \", mean_absolute_error(y_test, y_best_rf))\n",
        "print(\"RF optimisé • RMSE:\", np.sqrt(mean_squared_error(y_test, y_best_rf)))\n",
        "print(\"RF optimisé • R2:  \", r2_score(y_test, y_best_rf))\n"
      ],
      "metadata": {
        "colab": {
          "base_uri": "https://localhost:8080/"
        },
        "id": "atKzL2ATGLzp",
        "outputId": "ab54c77c-edad-4a86-9edb-88b08d78612e"
      },
      "id": "atKzL2ATGLzp",
      "execution_count": 13,
      "outputs": [
        {
          "output_type": "stream",
          "name": "stderr",
          "text": [
            "/usr/local/lib/python3.11/dist-packages/joblib/externals/loky/process_executor.py:782: UserWarning: A worker stopped while some jobs were given to the executor. This can be caused by a too short worker timeout or by a memory leak.\n",
            "  warnings.warn(\n"
          ]
        },
        {
          "output_type": "stream",
          "name": "stdout",
          "text": [
            "Meilleurs params RF : {'regressor__max_depth': 10, 'regressor__min_samples_split': 2, 'regressor__n_estimators': 300}\n",
            "RF optimisé • MAE:  5.753671717140165\n",
            "RF optimisé • RMSE: 7.326058689540617\n",
            "RF optimisé • R2:   0.40703061550075215\n"
          ]
        }
      ]
    },
    {
      "cell_type": "code",
      "source": [
        "from xgboost import XGBRegressor\n",
        "\n",
        "# Pipeline XGBoost par défaut\n",
        "xgb_baseline = Pipeline([\n",
        "    ('preprocessor', preprocessor),\n",
        "    ('regressor', XGBRegressor(random_state=42, eval_metric='mae'))\n",
        "])\n",
        "\n",
        "xgb_baseline.fit(X_train, y_train)\n",
        "y_xgb = xgb_baseline.predict(X_test)\n",
        "\n",
        "print(\"XGBoost (défaut) • MAE: \", mean_absolute_error(y_test, y_xgb))\n",
        "print(\"XGBoost (défaut) • RMSE:\", np.sqrt(mean_squared_error(y_test, y_xgb)))\n",
        "print(\"XGBoost (défaut) • R2:  \", r2_score(y_test, y_xgb))\n"
      ],
      "metadata": {
        "colab": {
          "base_uri": "https://localhost:8080/"
        },
        "id": "s7saX8CMJ7jw",
        "outputId": "0746b5f8-0697-41b5-b2b3-1140d4e55b40"
      },
      "id": "s7saX8CMJ7jw",
      "execution_count": 14,
      "outputs": [
        {
          "output_type": "stream",
          "name": "stdout",
          "text": [
            "XGBoost (défaut) • MAE:  5.860686442419777\n",
            "XGBoost (défaut) • RMSE: 7.47211801352253\n",
            "XGBoost (défaut) • R2:   0.3831509093101093\n"
          ]
        }
      ]
    },
    {
      "cell_type": "code",
      "source": [
        "param_grid_xgb = {\n",
        "    'regressor__n_estimators': [50, 100, 200],\n",
        "    'regressor__max_depth':    [3, 6, 10],\n",
        "    'regressor__learning_rate': [0.01, 0.1, 0.2],\n",
        "}\n",
        "\n",
        "grid_xgb = GridSearchCV(\n",
        "    xgb_baseline,\n",
        "    param_grid_xgb,\n",
        "    cv=5,\n",
        "    scoring='neg_mean_absolute_error',\n",
        "    n_jobs=-1\n",
        ")\n",
        "grid_xgb.fit(X_train, y_train)\n",
        "\n",
        "best_xgb = grid_xgb.best_estimator_\n",
        "y_best_xgb = best_xgb.predict(X_test)\n",
        "\n",
        "print(\"Meilleurs params XGB :\", grid_xgb.best_params_)\n",
        "print(\"XGB optimisé • MAE: \", mean_absolute_error(y_test, y_best_xgb))\n",
        "print(\"XGB optimisé • RMSE:\", np.sqrt(mean_squared_error(y_test, y_best_xgb)))\n",
        "print(\"XGB optimisé • R2:  \", r2_score(y_test, y_best_xgb))\n"
      ],
      "metadata": {
        "colab": {
          "base_uri": "https://localhost:8080/"
        },
        "id": "VoAQiz6OJ_Ff",
        "outputId": "3a516a97-d0a1-4dcd-9ff1-b9f3a8388b3e"
      },
      "id": "VoAQiz6OJ_Ff",
      "execution_count": 15,
      "outputs": [
        {
          "output_type": "stream",
          "name": "stdout",
          "text": [
            "Meilleurs params XGB : {'regressor__learning_rate': 0.1, 'regressor__max_depth': 3, 'regressor__n_estimators': 200}\n",
            "XGB optimisé • MAE:  5.739276069612949\n",
            "XGB optimisé • RMSE: 7.292596826271325\n",
            "XGB optimisé • R2:   0.41243503480311383\n"
          ]
        }
      ]
    },
    {
      "cell_type": "code",
      "source": [
        "from sklearn.ensemble import StackingRegressor\n",
        "\n",
        "stack = StackingRegressor(\n",
        "    estimators=[\n",
        "        ('rf',  grid_rf.best_estimator_),\n",
        "        ('xgb', grid_xgb.best_estimator_)\n",
        "    ],\n",
        "    final_estimator=LinearRegression(),\n",
        "    n_jobs=-1\n",
        ")\n",
        "\n",
        "# Entraînement directement sur DataFrame + Series\n",
        "stack.fit(X_train, y_train)\n",
        "y_stack = stack.predict(X_test)\n",
        "\n",
        "print(\"Stacking • MAE: \", mean_absolute_error(y_test, y_stack))\n",
        "print(\"Stacking • RMSE:\", np.sqrt(mean_squared_error(y_test, y_stack)))\n",
        "print(\"Stacking • R2:  \", r2_score(y_test, y_stack))\n"
      ],
      "metadata": {
        "colab": {
          "base_uri": "https://localhost:8080/"
        },
        "id": "x4qGiMK6Y0QF",
        "outputId": "7e26531a-e88a-4a54-d57e-4c992c9cb792"
      },
      "id": "x4qGiMK6Y0QF",
      "execution_count": 18,
      "outputs": [
        {
          "output_type": "stream",
          "name": "stdout",
          "text": [
            "Stacking • MAE:  5.729201811906688\n",
            "Stacking • RMSE: 7.2842491976605555\n",
            "Stacking • R2:   0.41377940281167913\n"
          ]
        }
      ]
    },
    {
      "cell_type": "markdown",
      "id": "b8dd65f9",
      "metadata": {
        "id": "b8dd65f9"
      },
      "source": [
        "## 7. Interprétation"
      ]
    },
    {
      "cell_type": "code",
      "execution_count": 21,
      "id": "2f1fd93a",
      "metadata": {
        "colab": {
          "base_uri": "https://localhost:8080/",
          "height": 334
        },
        "id": "2f1fd93a",
        "outputId": "59222a70-4f53-4b12-d211-30aba743fafb"
      },
      "outputs": [
        {
          "output_type": "display_data",
          "data": {
            "text/plain": [
              "<Figure size 1200x600 with 1 Axes>"
            ],
            "image/png": "[encoded data removed]"
          },
          "metadata": {}
        }
      ],
      "source": [
        "# Interprétation : importances des features — XGBoost optimisé\n",
        "import pandas as pd\n",
        "import matplotlib.pyplot as plt\n",
        "\n",
        "# 1) Récupérer le modèle pur\n",
        "xgb_model = grid_xgb.best_estimator_.named_steps['regressor']\n",
        "\n",
        "# 2) Extraire importances et noms de features\n",
        "importances = xgb_model.feature_importances_\n",
        "feature_names = (\n",
        "    numeric_features\n",
        "    + list(\n",
        "        grid_xgb.best_estimator_\n",
        "        .named_steps['preprocessor']\n",
        "        .named_transformers_['cat']\n",
        "        .named_steps['onehot']\n",
        "        .get_feature_names_out(categorical_features)\n",
        "    )\n",
        ")\n",
        "\n",
        "# 3) Construire la série et tracer\n",
        "feat_imp = pd.Series(importances, index=feature_names) \\\n",
        "             .sort_values(ascending=False)\n",
        "\n",
        "plt.figure(figsize=(12, 6))\n",
        "feat_imp.plot(kind='bar')\n",
        "plt.title(\"Importances des features — XGBoost optimisé\")\n",
        "plt.ylabel(\"Importance\")\n",
        "plt.xlabel(\"Feature\")\n",
        "plt.tight_layout()\n",
        "plt.show()\n"
      ]
    },
    {
      "cell_type": "markdown",
      "id": "78af5a78",
      "metadata": {
        "id": "78af5a78"
      },
      "source": [
        "## 8. Sauvegarde du modèle"
      ]
    },
    {
      "cell_type": "code",
      "source": [
        "# Votre pipeline complet XGB\n",
        "xgb_pipeline = Pipeline([\n",
        "    ('preprocessor', preprocessor),\n",
        "    ('regressor', XGBRegressor(**grid_xgb.best_params_, random_state=42, eval_metric='mae'))\n",
        "])\n",
        "xgb_pipeline.fit(X_train, y_train)\n",
        "\n",
        "# Sauvegarde du pipeline entier\n",
        "import joblib\n",
        "joblib.dump(xgb_pipeline, '/content/delivery_xgb_pipeline.joblib')\n"
      ],
      "metadata": {
        "colab": {
          "base_uri": "https://localhost:8080/"
        },
        "id": "a0rqJKcZmlmt",
        "outputId": "37c65416-fb97-4082-9b8f-70b21237aa53"
      },
      "id": "a0rqJKcZmlmt",
      "execution_count": 30,
      "outputs": [
        {
          "output_type": "stream",
          "name": "stderr",
          "text": [
            "/usr/local/lib/python3.11/dist-packages/xgboost/training.py:183: UserWarning: [19:41:39] WARNING: /workspace/src/learner.cc:738: \n",
            "Parameters: { \"regressor__learning_rate\", \"regressor__max_depth\", \"regressor__n_estimators\" } are not used.\n",
            "\n",
            "  bst.update(dtrain, iteration=i, fobj=obj)\n"
          ]
        },
        {
          "output_type": "execute_result",
          "data": {
            "text/plain": [
              "['/content/delivery_xgb_pipeline.joblib']"
            ]
          },
          "metadata": {},
          "execution_count": 30
        }
      ]
    },
    {
      "cell_type": "markdown",
      "source": [
        "## 9.Exemple de prédiction"
      ],
      "metadata": {
        "id": "jPL6AFhdpuNd"
      },
      "id": "jPL6AFhdpuNd"
    },
    {
      "cell_type": "code",
      "source": [
        "import joblib, pandas as pd\n",
        "\n",
        "# 1) Charger le pipeline complet\n",
        "pipeline = joblib.load('/content/delivery_xgb_pipeline.joblib')\n",
        "\n",
        "# 2) Construire un nouveau sample (avec **exactement** vos colonnes d’entrée)\n",
        "new_sample = pd.DataFrame([{\n",
        "    'Delivery_person_Age':      37.0   ,\n",
        "    'Delivery_person_Ratings':  4.9,\n",
        "    'distance_km':              3.025149,\n",
        "    'Type_of_order':           'Snack\t',\n",
        "    'Type_of_vehicle':         'motorcycle',\n",
        "    # … les autres features si vous en avez ajouté\n",
        "}])\n",
        "\n",
        "# 3) Prédiction (le pipeline s’occupe de tout transformer)\n",
        "pred = pipeline.predict(new_sample)[0]\n",
        "print(f\"Temps estimé : {pred:.2f} minutes\")\n"
      ],
      "metadata": {
        "colab": {
          "base_uri": "https://localhost:8080/"
        },
        "id": "Yeq2tgysmspa",
        "outputId": "e11a4b68-18ae-4dbc-a37f-3849211c791e"
      },
      "id": "Yeq2tgysmspa",
      "execution_count": 34,
      "outputs": [
        {
          "output_type": "stream",
          "name": "stdout",
          "text": [
            "Temps estimé : 19.01 minutes\n"
          ]
        }
      ]
    }
  ],
  "metadata": {
    "colab": {
      "provenance": []
    },
    "language_info": {
      "name": "python"
    },
    "kernelspec": {
      "name": "python3",
      "display_name": "Python 3"
    }
  },
  "nbformat": 4,
  "nbformat_minor": 5
}